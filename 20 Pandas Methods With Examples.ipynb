{
 "cells": [
  {
   "cell_type": "markdown",
   "id": "fb20514e",
   "metadata": {},
   "source": [
    "# 20 Pandas Methods With Examples"
   ]
  },
  {
   "cell_type": "code",
   "execution_count": 1,
   "id": "ce3161ac",
   "metadata": {},
   "outputs": [],
   "source": [
    "import pandas as pd"
   ]
  },
  {
   "cell_type": "code",
   "execution_count": 2,
   "id": "807b4f87",
   "metadata": {},
   "outputs": [],
   "source": [
    "import numpy as np"
   ]
  },
  {
   "cell_type": "markdown",
   "id": "a1aac8b8",
   "metadata": {},
   "source": [
    "### 1. Reading a CSV"
   ]
  },
  {
   "cell_type": "code",
   "execution_count": 15,
   "id": "bc1dd9cb",
   "metadata": {},
   "outputs": [
    {
     "name": "stdout",
     "output_type": "stream",
     "text": [
      "  group  year  value_1  value_2\n",
      "0     A  2010        3        2\n",
      "1     A  2011        6        0\n",
      "2     B  2012        7        4\n",
      "3     A  2013        0        7\n",
      "4     B  2014        1        0\n",
      "5     B  2015        6        1\n",
      "6     C  2016        0        1\n",
      "7     A  2017        9        3\n",
      "8     C  2018        7        0\n",
      "9     C  2019        4        7\n"
     ]
    }
   ],
   "source": [
    "#I can import my dataset from a csv file. This is how to do it.\n",
    "\n",
    "file = \"test.csv\"\n",
    "\n",
    "df = pd.read_csv(file)\n",
    "print(df)"
   ]
  },
  {
   "cell_type": "code",
   "execution_count": 12,
   "id": "b5965ed8",
   "metadata": {},
   "outputs": [
    {
     "data": {
      "text/html": [
       "<div>\n",
       "<style scoped>\n",
       "    .dataframe tbody tr th:only-of-type {\n",
       "        vertical-align: middle;\n",
       "    }\n",
       "\n",
       "    .dataframe tbody tr th {\n",
       "        vertical-align: top;\n",
       "    }\n",
       "\n",
       "    .dataframe thead th {\n",
       "        text-align: right;\n",
       "    }\n",
       "</style>\n",
       "<table border=\"1\" class=\"dataframe\">\n",
       "  <thead>\n",
       "    <tr style=\"text-align: right;\">\n",
       "      <th></th>\n",
       "      <th>group</th>\n",
       "      <th>year</th>\n",
       "      <th>value_1</th>\n",
       "      <th>value_2</th>\n",
       "    </tr>\n",
       "  </thead>\n",
       "  <tbody>\n",
       "    <tr>\n",
       "      <th>0</th>\n",
       "      <td>A</td>\n",
       "      <td>2010</td>\n",
       "      <td>3</td>\n",
       "      <td>2</td>\n",
       "    </tr>\n",
       "    <tr>\n",
       "      <th>1</th>\n",
       "      <td>A</td>\n",
       "      <td>2011</td>\n",
       "      <td>6</td>\n",
       "      <td>0</td>\n",
       "    </tr>\n",
       "    <tr>\n",
       "      <th>2</th>\n",
       "      <td>B</td>\n",
       "      <td>2012</td>\n",
       "      <td>7</td>\n",
       "      <td>4</td>\n",
       "    </tr>\n",
       "    <tr>\n",
       "      <th>3</th>\n",
       "      <td>A</td>\n",
       "      <td>2013</td>\n",
       "      <td>0</td>\n",
       "      <td>7</td>\n",
       "    </tr>\n",
       "    <tr>\n",
       "      <th>4</th>\n",
       "      <td>B</td>\n",
       "      <td>2014</td>\n",
       "      <td>1</td>\n",
       "      <td>0</td>\n",
       "    </tr>\n",
       "    <tr>\n",
       "      <th>5</th>\n",
       "      <td>B</td>\n",
       "      <td>2015</td>\n",
       "      <td>6</td>\n",
       "      <td>1</td>\n",
       "    </tr>\n",
       "    <tr>\n",
       "      <th>6</th>\n",
       "      <td>C</td>\n",
       "      <td>2016</td>\n",
       "      <td>0</td>\n",
       "      <td>1</td>\n",
       "    </tr>\n",
       "    <tr>\n",
       "      <th>7</th>\n",
       "      <td>A</td>\n",
       "      <td>2017</td>\n",
       "      <td>9</td>\n",
       "      <td>3</td>\n",
       "    </tr>\n",
       "    <tr>\n",
       "      <th>8</th>\n",
       "      <td>C</td>\n",
       "      <td>2018</td>\n",
       "      <td>7</td>\n",
       "      <td>0</td>\n",
       "    </tr>\n",
       "    <tr>\n",
       "      <th>9</th>\n",
       "      <td>C</td>\n",
       "      <td>2019</td>\n",
       "      <td>4</td>\n",
       "      <td>7</td>\n",
       "    </tr>\n",
       "  </tbody>\n",
       "</table>\n",
       "</div>"
      ],
      "text/plain": [
       "  group  year  value_1  value_2\n",
       "0     A  2010        3        2\n",
       "1     A  2011        6        0\n",
       "2     B  2012        7        4\n",
       "3     A  2013        0        7\n",
       "4     B  2014        1        0\n",
       "5     B  2015        6        1\n",
       "6     C  2016        0        1\n",
       "7     A  2017        9        3\n",
       "8     C  2018        7        0\n",
       "9     C  2019        4        7"
      ]
     },
     "execution_count": 12,
     "metadata": {},
     "output_type": "execute_result"
    }
   ],
   "source": [
    "#alternatively, I can create the same dataframe here using numpy\n",
    "\n",
    "values_1 = np.random.randint(10, size=10)\n",
    "values_2 = np.random.randint(10, size=10)\n",
    "years = np.arange(2010,2020)\n",
    "groups = ['A','A','B','A','B','B','C','A','C','C']\n",
    "df = pd.DataFrame({'group':groups, 'year':years, 'value_1':values_1, 'value_2':values_2})\n",
    "df\n",
    "\n"
   ]
  },
  {
   "cell_type": "markdown",
   "id": "f7ffa0fa",
   "metadata": {},
   "source": [
    "### 2.Query\n"
   ]
  },
  {
   "cell_type": "code",
   "execution_count": 16,
   "id": "ddf95b9e",
   "metadata": {},
   "outputs": [
    {
     "data": {
      "text/html": [
       "<div>\n",
       "<style scoped>\n",
       "    .dataframe tbody tr th:only-of-type {\n",
       "        vertical-align: middle;\n",
       "    }\n",
       "\n",
       "    .dataframe tbody tr th {\n",
       "        vertical-align: top;\n",
       "    }\n",
       "\n",
       "    .dataframe thead th {\n",
       "        text-align: right;\n",
       "    }\n",
       "</style>\n",
       "<table border=\"1\" class=\"dataframe\">\n",
       "  <thead>\n",
       "    <tr style=\"text-align: right;\">\n",
       "      <th></th>\n",
       "      <th>group</th>\n",
       "      <th>year</th>\n",
       "      <th>value_1</th>\n",
       "      <th>value_2</th>\n",
       "    </tr>\n",
       "  </thead>\n",
       "  <tbody>\n",
       "    <tr>\n",
       "      <th>3</th>\n",
       "      <td>A</td>\n",
       "      <td>2013</td>\n",
       "      <td>0</td>\n",
       "      <td>7</td>\n",
       "    </tr>\n",
       "    <tr>\n",
       "      <th>6</th>\n",
       "      <td>C</td>\n",
       "      <td>2016</td>\n",
       "      <td>0</td>\n",
       "      <td>1</td>\n",
       "    </tr>\n",
       "    <tr>\n",
       "      <th>9</th>\n",
       "      <td>C</td>\n",
       "      <td>2019</td>\n",
       "      <td>4</td>\n",
       "      <td>7</td>\n",
       "    </tr>\n",
       "  </tbody>\n",
       "</table>\n",
       "</div>"
      ],
      "text/plain": [
       "  group  year  value_1  value_2\n",
       "3     A  2013        0        7\n",
       "6     C  2016        0        1\n",
       "9     C  2019        4        7"
      ]
     },
     "execution_count": 16,
     "metadata": {},
     "output_type": "execute_result"
    }
   ],
   "source": [
    "#Query is used to filter a dataframe based on a condition or apply a mask to get certain values. \n",
    "#Example:\n",
    "df.query('value_1 < value_2') #ie, give me the years where value_1 is less than value_2"
   ]
  },
  {
   "cell_type": "markdown",
   "id": "1a166325",
   "metadata": {},
   "source": [
    "### 3. Insert"
   ]
  },
  {
   "cell_type": "code",
   "execution_count": 17,
   "id": "814cbb60",
   "metadata": {},
   "outputs": [
    {
     "data": {
      "text/html": [
       "<div>\n",
       "<style scoped>\n",
       "    .dataframe tbody tr th:only-of-type {\n",
       "        vertical-align: middle;\n",
       "    }\n",
       "\n",
       "    .dataframe tbody tr th {\n",
       "        vertical-align: top;\n",
       "    }\n",
       "\n",
       "    .dataframe thead th {\n",
       "        text-align: right;\n",
       "    }\n",
       "</style>\n",
       "<table border=\"1\" class=\"dataframe\">\n",
       "  <thead>\n",
       "    <tr style=\"text-align: right;\">\n",
       "      <th></th>\n",
       "      <th>group</th>\n",
       "      <th>year</th>\n",
       "      <th>new_col</th>\n",
       "      <th>value_1</th>\n",
       "      <th>value_2</th>\n",
       "    </tr>\n",
       "  </thead>\n",
       "  <tbody>\n",
       "    <tr>\n",
       "      <th>0</th>\n",
       "      <td>A</td>\n",
       "      <td>2010</td>\n",
       "      <td>0.278756</td>\n",
       "      <td>3</td>\n",
       "      <td>2</td>\n",
       "    </tr>\n",
       "    <tr>\n",
       "      <th>1</th>\n",
       "      <td>A</td>\n",
       "      <td>2011</td>\n",
       "      <td>-0.181786</td>\n",
       "      <td>6</td>\n",
       "      <td>0</td>\n",
       "    </tr>\n",
       "    <tr>\n",
       "      <th>2</th>\n",
       "      <td>B</td>\n",
       "      <td>2012</td>\n",
       "      <td>0.181442</td>\n",
       "      <td>7</td>\n",
       "      <td>4</td>\n",
       "    </tr>\n",
       "    <tr>\n",
       "      <th>3</th>\n",
       "      <td>A</td>\n",
       "      <td>2013</td>\n",
       "      <td>1.341504</td>\n",
       "      <td>0</td>\n",
       "      <td>7</td>\n",
       "    </tr>\n",
       "    <tr>\n",
       "      <th>4</th>\n",
       "      <td>B</td>\n",
       "      <td>2014</td>\n",
       "      <td>-0.767910</td>\n",
       "      <td>1</td>\n",
       "      <td>0</td>\n",
       "    </tr>\n",
       "    <tr>\n",
       "      <th>5</th>\n",
       "      <td>B</td>\n",
       "      <td>2015</td>\n",
       "      <td>0.648030</td>\n",
       "      <td>6</td>\n",
       "      <td>1</td>\n",
       "    </tr>\n",
       "    <tr>\n",
       "      <th>6</th>\n",
       "      <td>C</td>\n",
       "      <td>2016</td>\n",
       "      <td>0.229886</td>\n",
       "      <td>0</td>\n",
       "      <td>1</td>\n",
       "    </tr>\n",
       "    <tr>\n",
       "      <th>7</th>\n",
       "      <td>A</td>\n",
       "      <td>2017</td>\n",
       "      <td>-0.733715</td>\n",
       "      <td>9</td>\n",
       "      <td>3</td>\n",
       "    </tr>\n",
       "    <tr>\n",
       "      <th>8</th>\n",
       "      <td>C</td>\n",
       "      <td>2018</td>\n",
       "      <td>-0.799097</td>\n",
       "      <td>7</td>\n",
       "      <td>0</td>\n",
       "    </tr>\n",
       "    <tr>\n",
       "      <th>9</th>\n",
       "      <td>C</td>\n",
       "      <td>2019</td>\n",
       "      <td>-0.330538</td>\n",
       "      <td>4</td>\n",
       "      <td>7</td>\n",
       "    </tr>\n",
       "  </tbody>\n",
       "</table>\n",
       "</div>"
      ],
      "text/plain": [
       "  group  year   new_col  value_1  value_2\n",
       "0     A  2010  0.278756        3        2\n",
       "1     A  2011 -0.181786        6        0\n",
       "2     B  2012  0.181442        7        4\n",
       "3     A  2013  1.341504        0        7\n",
       "4     B  2014 -0.767910        1        0\n",
       "5     B  2015  0.648030        6        1\n",
       "6     C  2016  0.229886        0        1\n",
       "7     A  2017 -0.733715        9        3\n",
       "8     C  2018 -0.799097        7        0\n",
       "9     C  2019 -0.330538        4        7"
      ]
     },
     "execution_count": 17,
     "metadata": {},
     "output_type": "execute_result"
    }
   ],
   "source": [
    "'''By default, a new column is added to the end of a dataframe. \n",
    "However, pandas allows us add the new column in any position using insert function.\n",
    "We need to specify the position by passing an index(integer) as first argument. \n",
    "Column indices start from zero just like row indices. \n",
    "The second argument is column name and the third argument is the object that includes \n",
    "values which can be Series or an array-like object.'''\n",
    "#Example:\n",
    "\n",
    "#new column\n",
    "new_col = np.random.randn(10)\n",
    "df.insert(2, 'new_col', new_col) #insert the new column at position 2\n",
    "df\n"
   ]
  },
  {
   "cell_type": "markdown",
   "id": "ae3fc74c",
   "metadata": {},
   "source": [
    "### 4. Sample"
   ]
  },
  {
   "cell_type": "code",
   "execution_count": 18,
   "id": "29b5bcc0",
   "metadata": {},
   "outputs": [
    {
     "data": {
      "text/html": [
       "<div>\n",
       "<style scoped>\n",
       "    .dataframe tbody tr th:only-of-type {\n",
       "        vertical-align: middle;\n",
       "    }\n",
       "\n",
       "    .dataframe tbody tr th {\n",
       "        vertical-align: top;\n",
       "    }\n",
       "\n",
       "    .dataframe thead th {\n",
       "        text-align: right;\n",
       "    }\n",
       "</style>\n",
       "<table border=\"1\" class=\"dataframe\">\n",
       "  <thead>\n",
       "    <tr style=\"text-align: right;\">\n",
       "      <th></th>\n",
       "      <th>group</th>\n",
       "      <th>year</th>\n",
       "      <th>new_col</th>\n",
       "      <th>value_1</th>\n",
       "      <th>value_2</th>\n",
       "    </tr>\n",
       "  </thead>\n",
       "  <tbody>\n",
       "    <tr>\n",
       "      <th>2</th>\n",
       "      <td>B</td>\n",
       "      <td>2012</td>\n",
       "      <td>0.181442</td>\n",
       "      <td>7</td>\n",
       "      <td>4</td>\n",
       "    </tr>\n",
       "    <tr>\n",
       "      <th>6</th>\n",
       "      <td>C</td>\n",
       "      <td>2016</td>\n",
       "      <td>0.229886</td>\n",
       "      <td>0</td>\n",
       "      <td>1</td>\n",
       "    </tr>\n",
       "    <tr>\n",
       "      <th>3</th>\n",
       "      <td>A</td>\n",
       "      <td>2013</td>\n",
       "      <td>1.341504</td>\n",
       "      <td>0</td>\n",
       "      <td>7</td>\n",
       "    </tr>\n",
       "  </tbody>\n",
       "</table>\n",
       "</div>"
      ],
      "text/plain": [
       "  group  year   new_col  value_1  value_2\n",
       "2     B  2012  0.181442        7        4\n",
       "6     C  2016  0.229886        0        1\n",
       "3     A  2013  1.341504        0        7"
      ]
     },
     "execution_count": 18,
     "metadata": {},
     "output_type": "execute_result"
    }
   ],
   "source": [
    "'''Sample allows us to select values randomly from a Series or DataFrame. \n",
    "It is useful when we want to select a random sample from a distribution.\n",
    "We specify the number of values with n parameter.'''\n",
    "\n",
    "#Example\n",
    "\n",
    "sample1 = df.sample(n=3)\n",
    "sample1\n",
    " \n"
   ]
  },
  {
   "cell_type": "code",
   "execution_count": 19,
   "id": "ea05707a",
   "metadata": {},
   "outputs": [
    {
     "data": {
      "text/html": [
       "<div>\n",
       "<style scoped>\n",
       "    .dataframe tbody tr th:only-of-type {\n",
       "        vertical-align: middle;\n",
       "    }\n",
       "\n",
       "    .dataframe tbody tr th {\n",
       "        vertical-align: top;\n",
       "    }\n",
       "\n",
       "    .dataframe thead th {\n",
       "        text-align: right;\n",
       "    }\n",
       "</style>\n",
       "<table border=\"1\" class=\"dataframe\">\n",
       "  <thead>\n",
       "    <tr style=\"text-align: right;\">\n",
       "      <th></th>\n",
       "      <th>group</th>\n",
       "      <th>year</th>\n",
       "      <th>new_col</th>\n",
       "      <th>value_1</th>\n",
       "      <th>value_2</th>\n",
       "    </tr>\n",
       "  </thead>\n",
       "  <tbody>\n",
       "    <tr>\n",
       "      <th>6</th>\n",
       "      <td>C</td>\n",
       "      <td>2016</td>\n",
       "      <td>0.229886</td>\n",
       "      <td>0</td>\n",
       "      <td>1</td>\n",
       "    </tr>\n",
       "    <tr>\n",
       "      <th>4</th>\n",
       "      <td>B</td>\n",
       "      <td>2014</td>\n",
       "      <td>-0.767910</td>\n",
       "      <td>1</td>\n",
       "      <td>0</td>\n",
       "    </tr>\n",
       "    <tr>\n",
       "      <th>0</th>\n",
       "      <td>A</td>\n",
       "      <td>2010</td>\n",
       "      <td>0.278756</td>\n",
       "      <td>3</td>\n",
       "      <td>2</td>\n",
       "    </tr>\n",
       "    <tr>\n",
       "      <th>7</th>\n",
       "      <td>A</td>\n",
       "      <td>2017</td>\n",
       "      <td>-0.733715</td>\n",
       "      <td>9</td>\n",
       "      <td>3</td>\n",
       "    </tr>\n",
       "    <tr>\n",
       "      <th>3</th>\n",
       "      <td>A</td>\n",
       "      <td>2013</td>\n",
       "      <td>1.341504</td>\n",
       "      <td>0</td>\n",
       "      <td>7</td>\n",
       "    </tr>\n",
       "  </tbody>\n",
       "</table>\n",
       "</div>"
      ],
      "text/plain": [
       "  group  year   new_col  value_1  value_2\n",
       "6     C  2016  0.229886        0        1\n",
       "4     B  2014 -0.767910        1        0\n",
       "0     A  2010  0.278756        3        2\n",
       "7     A  2017 -0.733715        9        3\n",
       "3     A  2013  1.341504        0        7"
      ]
     },
     "execution_count": 19,
     "metadata": {},
     "output_type": "execute_result"
    }
   ],
   "source": [
    "# but we can also pass a ratio to frac parameter.\n",
    "#For instance, 0.5 will return half of the rows.\n",
    "\n",
    "#Example\n",
    "sample2 = df.sample(frac=0.5)\n",
    "sample2\n"
   ]
  },
  {
   "cell_type": "markdown",
   "id": "dbf8456e",
   "metadata": {},
   "source": [
    "### 5. Where"
   ]
  },
  {
   "cell_type": "code",
   "execution_count": 23,
   "id": "c1495c14",
   "metadata": {},
   "outputs": [
    {
     "data": {
      "text/plain": [
       "0    0.278756\n",
       "1    2.000000\n",
       "2    0.181442\n",
       "3    1.341504\n",
       "4    2.000000\n",
       "5    0.648030\n",
       "6    0.229886\n",
       "7    2.000000\n",
       "8    2.000000\n",
       "9    2.000000\n",
       "Name: new_col, dtype: float64"
      ]
     },
     "execution_count": 23,
     "metadata": {},
     "output_type": "execute_result"
    }
   ],
   "source": [
    "'''We use “Where” to replace values in rows or columns based on a condition.\n",
    "The default replacement values is NaN but we can also specify the value to be put as a replacement.\n",
    "'''\n",
    "#Example:\n",
    "df['new_col'].where(df['new_col'] > 0 , 2)"
   ]
  },
  {
   "cell_type": "code",
   "execution_count": 25,
   "id": "182fa38e",
   "metadata": {},
   "outputs": [
    {
     "data": {
      "text/plain": [
       "array([0.27875641, 2.        , 0.18144153, 1.34150401, 2.        ,\n",
       "       0.64803027, 0.22988577, 2.        , 2.        , 2.        ])"
      ]
     },
     "execution_count": 25,
     "metadata": {},
     "output_type": "execute_result"
    }
   ],
   "source": [
    "'''The way “where” works is that values that fit the condition are selected,\n",
    "and the remaining values are replaced with the specified value. \n",
    "where(df[‘new_col’]>0, 0) selects all the values in “new_col” that are greater than 0\n",
    "and the remaining values are replaced with 0. \n",
    "Thus, 'where' can also be considered as a mask operation.\n",
    "One important point is that “where” for Pandas and NumPy are not exactly the same. \n",
    "We can achieve the same result but with slightly different syntax. \n",
    "With DataFrame.where, the values that fit the condition are selected as is \n",
    "and the other values are replaced with the specified value. \n",
    "Np.where requires to also specify the value for the ones that fit the condition. \n",
    "The following two lines return the same result:\n",
    "df['new_col'].where(df['new_col'] > 0 , 0)\n",
    "\n",
    "'''\n",
    "np.where(df['new_col'] > 0, df['new_col'], 2)"
   ]
  },
  {
   "cell_type": "markdown",
   "id": "5eec93ce",
   "metadata": {},
   "source": [
    "### 6. Isin"
   ]
  },
  {
   "cell_type": "code",
   "execution_count": 30,
   "id": "d0f89972",
   "metadata": {},
   "outputs": [
    {
     "data": {
      "text/html": [
       "<div>\n",
       "<style scoped>\n",
       "    .dataframe tbody tr th:only-of-type {\n",
       "        vertical-align: middle;\n",
       "    }\n",
       "\n",
       "    .dataframe tbody tr th {\n",
       "        vertical-align: top;\n",
       "    }\n",
       "\n",
       "    .dataframe thead th {\n",
       "        text-align: right;\n",
       "    }\n",
       "</style>\n",
       "<table border=\"1\" class=\"dataframe\">\n",
       "  <thead>\n",
       "    <tr style=\"text-align: right;\">\n",
       "      <th></th>\n",
       "      <th>group</th>\n",
       "      <th>year</th>\n",
       "      <th>new_col</th>\n",
       "      <th>value_1</th>\n",
       "      <th>value_2</th>\n",
       "    </tr>\n",
       "  </thead>\n",
       "  <tbody>\n",
       "    <tr>\n",
       "      <th>0</th>\n",
       "      <td>A</td>\n",
       "      <td>2010</td>\n",
       "      <td>0.278756</td>\n",
       "      <td>3</td>\n",
       "      <td>2</td>\n",
       "    </tr>\n",
       "    <tr>\n",
       "      <th>4</th>\n",
       "      <td>B</td>\n",
       "      <td>2014</td>\n",
       "      <td>-0.767910</td>\n",
       "      <td>1</td>\n",
       "      <td>0</td>\n",
       "    </tr>\n",
       "    <tr>\n",
       "      <th>7</th>\n",
       "      <td>A</td>\n",
       "      <td>2017</td>\n",
       "      <td>-0.733715</td>\n",
       "      <td>9</td>\n",
       "      <td>3</td>\n",
       "    </tr>\n",
       "  </tbody>\n",
       "</table>\n",
       "</div>"
      ],
      "text/plain": [
       "  group  year   new_col  value_1  value_2\n",
       "0     A  2010  0.278756        3        2\n",
       "4     B  2014 -0.767910        1        0\n",
       "7     A  2017 -0.733715        9        3"
      ]
     },
     "execution_count": 30,
     "metadata": {},
     "output_type": "execute_result"
    }
   ],
   "source": [
    "'''Isin method is kind of an advanced filtering. We can filter values based on a list of selections.'''\n",
    "#Example:\n",
    "\n",
    "years = [2010,2014,2017]\n",
    "df[df.year.isin(years)]\n"
   ]
  },
  {
   "cell_type": "markdown",
   "id": "be0b3dc2",
   "metadata": {},
   "source": [
    "### 7. Loc and iloc"
   ]
  },
  {
   "cell_type": "code",
   "execution_count": 34,
   "id": "fdf40ec7",
   "metadata": {},
   "outputs": [
    {
     "data": {
      "text/html": [
       "<div>\n",
       "<style scoped>\n",
       "    .dataframe tbody tr th:only-of-type {\n",
       "        vertical-align: middle;\n",
       "    }\n",
       "\n",
       "    .dataframe tbody tr th {\n",
       "        vertical-align: top;\n",
       "    }\n",
       "\n",
       "    .dataframe thead th {\n",
       "        text-align: right;\n",
       "    }\n",
       "</style>\n",
       "<table border=\"1\" class=\"dataframe\">\n",
       "  <thead>\n",
       "    <tr style=\"text-align: right;\">\n",
       "      <th></th>\n",
       "      <th>group</th>\n",
       "      <th>year</th>\n",
       "    </tr>\n",
       "  </thead>\n",
       "  <tbody>\n",
       "    <tr>\n",
       "      <th>0</th>\n",
       "      <td>A</td>\n",
       "      <td>2010</td>\n",
       "    </tr>\n",
       "    <tr>\n",
       "      <th>1</th>\n",
       "      <td>A</td>\n",
       "      <td>2011</td>\n",
       "    </tr>\n",
       "    <tr>\n",
       "      <th>2</th>\n",
       "      <td>B</td>\n",
       "      <td>2012</td>\n",
       "    </tr>\n",
       "  </tbody>\n",
       "</table>\n",
       "</div>"
      ],
      "text/plain": [
       "  group  year\n",
       "0     A  2010\n",
       "1     A  2011\n",
       "2     B  2012"
      ]
     },
     "execution_count": 34,
     "metadata": {},
     "output_type": "execute_result"
    }
   ],
   "source": [
    "'''Loc and iloc are used to select rows and columns.\n",
    "•\tloc: selects data by labels(columns)\n",
    "•\tiloc: selects data by positions(rows)\n",
    "loc is used to select data by label. The labels of columns are the column names. \n",
    "We need to be careful about row labels. If we do not assign any specific indices, \n",
    "pandas created integer index by default. Thus, the row labels are integers starting from 0 and going up. \n",
    "The row positions that are used with iloc are also integers starting from 0.\n",
    "'''\n",
    "#Example:\n",
    "\n",
    "#Selecting first 3 rows and first 2 columns with iloc:\n",
    "\n",
    "df.iloc[:3, :2]"
   ]
  },
  {
   "cell_type": "code",
   "execution_count": 36,
   "id": "72d2ad46",
   "metadata": {},
   "outputs": [
    {
     "data": {
      "text/html": [
       "<div>\n",
       "<style scoped>\n",
       "    .dataframe tbody tr th:only-of-type {\n",
       "        vertical-align: middle;\n",
       "    }\n",
       "\n",
       "    .dataframe tbody tr th {\n",
       "        vertical-align: top;\n",
       "    }\n",
       "\n",
       "    .dataframe thead th {\n",
       "        text-align: right;\n",
       "    }\n",
       "</style>\n",
       "<table border=\"1\" class=\"dataframe\">\n",
       "  <thead>\n",
       "    <tr style=\"text-align: right;\">\n",
       "      <th></th>\n",
       "      <th>group</th>\n",
       "      <th>year</th>\n",
       "    </tr>\n",
       "  </thead>\n",
       "  <tbody>\n",
       "    <tr>\n",
       "      <th>0</th>\n",
       "      <td>A</td>\n",
       "      <td>2010</td>\n",
       "    </tr>\n",
       "    <tr>\n",
       "      <th>1</th>\n",
       "      <td>A</td>\n",
       "      <td>2011</td>\n",
       "    </tr>\n",
       "    <tr>\n",
       "      <th>2</th>\n",
       "      <td>B</td>\n",
       "      <td>2012</td>\n",
       "    </tr>\n",
       "  </tbody>\n",
       "</table>\n",
       "</div>"
      ],
      "text/plain": [
       "  group  year\n",
       "0     A  2010\n",
       "1     A  2011\n",
       "2     B  2012"
      ]
     },
     "execution_count": 36,
     "metadata": {},
     "output_type": "execute_result"
    }
   ],
   "source": [
    "#Selecting first 3 rows and first 2 columns with loc:\n",
    " \n",
    "df.loc[:2, ['group', 'year']]   #Note: Upper boundaries of indices are included when loc is used whereas they are excluded with iloc."
   ]
  },
  {
   "cell_type": "code",
   "execution_count": 37,
   "id": "7d7201db",
   "metadata": {},
   "outputs": [
    {
     "data": {
      "text/html": [
       "<div>\n",
       "<style scoped>\n",
       "    .dataframe tbody tr th:only-of-type {\n",
       "        vertical-align: middle;\n",
       "    }\n",
       "\n",
       "    .dataframe tbody tr th {\n",
       "        vertical-align: top;\n",
       "    }\n",
       "\n",
       "    .dataframe thead th {\n",
       "        text-align: right;\n",
       "    }\n",
       "</style>\n",
       "<table border=\"1\" class=\"dataframe\">\n",
       "  <thead>\n",
       "    <tr style=\"text-align: right;\">\n",
       "      <th></th>\n",
       "      <th>year</th>\n",
       "      <th>value_1</th>\n",
       "    </tr>\n",
       "  </thead>\n",
       "  <tbody>\n",
       "    <tr>\n",
       "      <th>2</th>\n",
       "      <td>2012</td>\n",
       "      <td>7</td>\n",
       "    </tr>\n",
       "    <tr>\n",
       "      <th>4</th>\n",
       "      <td>2014</td>\n",
       "      <td>1</td>\n",
       "    </tr>\n",
       "    <tr>\n",
       "      <th>6</th>\n",
       "      <td>2016</td>\n",
       "      <td>0</td>\n",
       "    </tr>\n",
       "  </tbody>\n",
       "</table>\n",
       "</div>"
      ],
      "text/plain": [
       "   year  value_1\n",
       "2  2012        7\n",
       "4  2014        1\n",
       "6  2016        0"
      ]
     },
     "execution_count": 37,
     "metadata": {},
     "output_type": "execute_result"
    }
   ],
   "source": [
    "#Selecting rows “2”, “4”, “6” and columns “year” and “value_1”:\n",
    "\n",
    "df.loc[[2,4,6], ['year', 'value_1']]\n"
   ]
  },
  {
   "cell_type": "markdown",
   "id": "ab95a7e9",
   "metadata": {},
   "source": [
    "### 8. Replace"
   ]
  },
  {
   "cell_type": "code",
   "execution_count": 42,
   "id": "79b296bc",
   "metadata": {},
   "outputs": [
    {
     "data": {
      "text/html": [
       "<div>\n",
       "<style scoped>\n",
       "    .dataframe tbody tr th:only-of-type {\n",
       "        vertical-align: middle;\n",
       "    }\n",
       "\n",
       "    .dataframe tbody tr th {\n",
       "        vertical-align: top;\n",
       "    }\n",
       "\n",
       "    .dataframe thead th {\n",
       "        text-align: right;\n",
       "    }\n",
       "</style>\n",
       "<table border=\"1\" class=\"dataframe\">\n",
       "  <thead>\n",
       "    <tr style=\"text-align: right;\">\n",
       "      <th></th>\n",
       "      <th>group</th>\n",
       "      <th>year</th>\n",
       "      <th>new_col</th>\n",
       "      <th>value_1</th>\n",
       "      <th>value_2</th>\n",
       "    </tr>\n",
       "  </thead>\n",
       "  <tbody>\n",
       "    <tr>\n",
       "      <th>0</th>\n",
       "      <td>A_1</td>\n",
       "      <td>2010</td>\n",
       "      <td>0.278756</td>\n",
       "      <td>3</td>\n",
       "      <td>2</td>\n",
       "    </tr>\n",
       "    <tr>\n",
       "      <th>1</th>\n",
       "      <td>A_1</td>\n",
       "      <td>2011</td>\n",
       "      <td>-0.181786</td>\n",
       "      <td>6</td>\n",
       "      <td>0</td>\n",
       "    </tr>\n",
       "    <tr>\n",
       "      <th>2</th>\n",
       "      <td>B</td>\n",
       "      <td>2012</td>\n",
       "      <td>0.181442</td>\n",
       "      <td>7</td>\n",
       "      <td>4</td>\n",
       "    </tr>\n",
       "    <tr>\n",
       "      <th>3</th>\n",
       "      <td>A_1</td>\n",
       "      <td>2013</td>\n",
       "      <td>1.341504</td>\n",
       "      <td>0</td>\n",
       "      <td>7</td>\n",
       "    </tr>\n",
       "    <tr>\n",
       "      <th>4</th>\n",
       "      <td>B</td>\n",
       "      <td>2014</td>\n",
       "      <td>-0.767910</td>\n",
       "      <td>1</td>\n",
       "      <td>0</td>\n",
       "    </tr>\n",
       "    <tr>\n",
       "      <th>5</th>\n",
       "      <td>B</td>\n",
       "      <td>2015</td>\n",
       "      <td>0.648030</td>\n",
       "      <td>6</td>\n",
       "      <td>1</td>\n",
       "    </tr>\n",
       "    <tr>\n",
       "      <th>6</th>\n",
       "      <td>C</td>\n",
       "      <td>2016</td>\n",
       "      <td>0.229886</td>\n",
       "      <td>0</td>\n",
       "      <td>1</td>\n",
       "    </tr>\n",
       "    <tr>\n",
       "      <th>7</th>\n",
       "      <td>A_1</td>\n",
       "      <td>2017</td>\n",
       "      <td>-0.733715</td>\n",
       "      <td>9</td>\n",
       "      <td>3</td>\n",
       "    </tr>\n",
       "    <tr>\n",
       "      <th>8</th>\n",
       "      <td>C</td>\n",
       "      <td>2018</td>\n",
       "      <td>-0.799097</td>\n",
       "      <td>7</td>\n",
       "      <td>0</td>\n",
       "    </tr>\n",
       "    <tr>\n",
       "      <th>9</th>\n",
       "      <td>C</td>\n",
       "      <td>2019</td>\n",
       "      <td>-0.330538</td>\n",
       "      <td>4</td>\n",
       "      <td>7</td>\n",
       "    </tr>\n",
       "  </tbody>\n",
       "</table>\n",
       "</div>"
      ],
      "text/plain": [
       "  group  year   new_col  value_1  value_2\n",
       "0   A_1  2010  0.278756        3        2\n",
       "1   A_1  2011 -0.181786        6        0\n",
       "2     B  2012  0.181442        7        4\n",
       "3   A_1  2013  1.341504        0        7\n",
       "4     B  2014 -0.767910        1        0\n",
       "5     B  2015  0.648030        6        1\n",
       "6     C  2016  0.229886        0        1\n",
       "7   A_1  2017 -0.733715        9        3\n",
       "8     C  2018 -0.799097        7        0\n",
       "9     C  2019 -0.330538        4        7"
      ]
     },
     "execution_count": 42,
     "metadata": {},
     "output_type": "execute_result"
    }
   ],
   "source": [
    "'''replace allows us to replace values in a dataframe.\n",
    "The first parameter is the value to replaced and the second one is the new value.'''\n",
    "\n",
    "#Example:\n",
    "df.replace('A', 'A_1')"
   ]
  },
  {
   "cell_type": "code",
   "execution_count": 43,
   "id": "d16f6e69",
   "metadata": {},
   "outputs": [
    {
     "data": {
      "text/html": [
       "<div>\n",
       "<style scoped>\n",
       "    .dataframe tbody tr th:only-of-type {\n",
       "        vertical-align: middle;\n",
       "    }\n",
       "\n",
       "    .dataframe tbody tr th {\n",
       "        vertical-align: top;\n",
       "    }\n",
       "\n",
       "    .dataframe thead th {\n",
       "        text-align: right;\n",
       "    }\n",
       "</style>\n",
       "<table border=\"1\" class=\"dataframe\">\n",
       "  <thead>\n",
       "    <tr style=\"text-align: right;\">\n",
       "      <th></th>\n",
       "      <th>group</th>\n",
       "      <th>year</th>\n",
       "      <th>new_col</th>\n",
       "      <th>value_1</th>\n",
       "      <th>value_2</th>\n",
       "    </tr>\n",
       "  </thead>\n",
       "  <tbody>\n",
       "    <tr>\n",
       "      <th>0</th>\n",
       "      <td>A_1</td>\n",
       "      <td>2010</td>\n",
       "      <td>0.278756</td>\n",
       "      <td>3</td>\n",
       "      <td>2</td>\n",
       "    </tr>\n",
       "    <tr>\n",
       "      <th>1</th>\n",
       "      <td>A_1</td>\n",
       "      <td>2011</td>\n",
       "      <td>-0.181786</td>\n",
       "      <td>6</td>\n",
       "      <td>0</td>\n",
       "    </tr>\n",
       "    <tr>\n",
       "      <th>2</th>\n",
       "      <td>B_1</td>\n",
       "      <td>2012</td>\n",
       "      <td>0.181442</td>\n",
       "      <td>7</td>\n",
       "      <td>4</td>\n",
       "    </tr>\n",
       "    <tr>\n",
       "      <th>3</th>\n",
       "      <td>A_1</td>\n",
       "      <td>2013</td>\n",
       "      <td>1.341504</td>\n",
       "      <td>0</td>\n",
       "      <td>7</td>\n",
       "    </tr>\n",
       "    <tr>\n",
       "      <th>4</th>\n",
       "      <td>B_1</td>\n",
       "      <td>2014</td>\n",
       "      <td>-0.767910</td>\n",
       "      <td>1</td>\n",
       "      <td>0</td>\n",
       "    </tr>\n",
       "    <tr>\n",
       "      <th>5</th>\n",
       "      <td>B_1</td>\n",
       "      <td>2015</td>\n",
       "      <td>0.648030</td>\n",
       "      <td>6</td>\n",
       "      <td>1</td>\n",
       "    </tr>\n",
       "    <tr>\n",
       "      <th>6</th>\n",
       "      <td>C</td>\n",
       "      <td>2016</td>\n",
       "      <td>0.229886</td>\n",
       "      <td>0</td>\n",
       "      <td>1</td>\n",
       "    </tr>\n",
       "    <tr>\n",
       "      <th>7</th>\n",
       "      <td>A_1</td>\n",
       "      <td>2017</td>\n",
       "      <td>-0.733715</td>\n",
       "      <td>9</td>\n",
       "      <td>3</td>\n",
       "    </tr>\n",
       "    <tr>\n",
       "      <th>8</th>\n",
       "      <td>C</td>\n",
       "      <td>2018</td>\n",
       "      <td>-0.799097</td>\n",
       "      <td>7</td>\n",
       "      <td>0</td>\n",
       "    </tr>\n",
       "    <tr>\n",
       "      <th>9</th>\n",
       "      <td>C</td>\n",
       "      <td>2019</td>\n",
       "      <td>-0.330538</td>\n",
       "      <td>4</td>\n",
       "      <td>7</td>\n",
       "    </tr>\n",
       "  </tbody>\n",
       "</table>\n",
       "</div>"
      ],
      "text/plain": [
       "  group  year   new_col  value_1  value_2\n",
       "0   A_1  2010  0.278756        3        2\n",
       "1   A_1  2011 -0.181786        6        0\n",
       "2   B_1  2012  0.181442        7        4\n",
       "3   A_1  2013  1.341504        0        7\n",
       "4   B_1  2014 -0.767910        1        0\n",
       "5   B_1  2015  0.648030        6        1\n",
       "6     C  2016  0.229886        0        1\n",
       "7   A_1  2017 -0.733715        9        3\n",
       "8     C  2018 -0.799097        7        0\n",
       "9     C  2019 -0.330538        4        7"
      ]
     },
     "execution_count": 43,
     "metadata": {},
     "output_type": "execute_result"
    }
   ],
   "source": [
    "'''We can also pass in a dictionary for multiple replacements at the same time.'''\n",
    "#Example:\n",
    "df.replace({'A':'A_1', 'B':'B_1'})"
   ]
  },
  {
   "cell_type": "markdown",
   "id": "ddca0866",
   "metadata": {},
   "source": [
    "### 9. Creating a DataFrame"
   ]
  },
  {
   "cell_type": "code",
   "execution_count": 45,
   "id": "6206ca4e",
   "metadata": {},
   "outputs": [
    {
     "name": "stdout",
     "output_type": "stream",
     "text": [
      "   Mon  Tue Wed\n",
      "0    1    2   A\n",
      "1    3    4   B\n"
     ]
    }
   ],
   "source": [
    "#a. From a list of lists. \n",
    "\n",
    "#Example:\n",
    "#consider the following lists:\n",
    "\n",
    "data = [[1, 2, \"A\"], \n",
    "        [3, 4, \"B\"]]\n",
    "\n",
    "df = pd.DataFrame(data, columns = [\"Mon\", \"Tue\", \"Wed\"])\n",
    "print(df)"
   ]
  },
  {
   "cell_type": "code",
   "execution_count": 46,
   "id": "530d5a80",
   "metadata": {},
   "outputs": [
    {
     "name": "stdout",
     "output_type": "stream",
     "text": [
      "   Mon  Tue Wed\n",
      "0    1    3   A\n",
      "1    2    4   B\n"
     ]
    }
   ],
   "source": [
    "#b. From a dictionary.\n",
    "\n",
    "#Example:\n",
    "#consider the followin dictionary:\n",
    "data = {'Mon': [1, 2], \n",
    "        'Tue': [3, 4], \n",
    "        'Wed': [\"A\", \"B\"]}\n",
    "\n",
    "df = pd.DataFrame(data=data)\n",
    "print(df)"
   ]
  },
  {
   "cell_type": "markdown",
   "id": "9363de4d",
   "metadata": {},
   "source": [
    "### 10. The Shape of the DataFrame"
   ]
  },
  {
   "cell_type": "code",
   "execution_count": 47,
   "id": "f6dfba07",
   "metadata": {},
   "outputs": [
    {
     "name": "stdout",
     "output_type": "stream",
     "text": [
      "   Mon  Tue Wed\n",
      "0    1    3   A\n",
      "1    2    4   B\n",
      "Shape: (2, 3)\n"
     ]
    }
   ],
   "source": [
    "print(df)\n",
    "\n",
    "print(\"Shape:\", df.shape)"
   ]
  },
  {
   "cell_type": "markdown",
   "id": "a28a2925",
   "metadata": {},
   "source": [
    "### 11. Deleting Column(s)"
   ]
  },
  {
   "cell_type": "code",
   "execution_count": 55,
   "id": "6c24369c",
   "metadata": {},
   "outputs": [
    {
     "name": "stdout",
     "output_type": "stream",
     "text": [
      "   Tue Wed\n",
      "0    3   A\n",
      "1    4   B\n"
     ]
    }
   ],
   "source": [
    " print(df.drop(columns = [\"Mon\"])) #used to delete a column"
   ]
  },
  {
   "cell_type": "markdown",
   "id": "0a98ad31",
   "metadata": {},
   "source": [
    "### 12. Renaming Columns"
   ]
  },
  {
   "cell_type": "code",
   "execution_count": 56,
   "id": "62f602a3",
   "metadata": {},
   "outputs": [
    {
     "data": {
      "text/html": [
       "<div>\n",
       "<style scoped>\n",
       "    .dataframe tbody tr th:only-of-type {\n",
       "        vertical-align: middle;\n",
       "    }\n",
       "\n",
       "    .dataframe tbody tr th {\n",
       "        vertical-align: top;\n",
       "    }\n",
       "\n",
       "    .dataframe thead th {\n",
       "        text-align: right;\n",
       "    }\n",
       "</style>\n",
       "<table border=\"1\" class=\"dataframe\">\n",
       "  <thead>\n",
       "    <tr style=\"text-align: right;\">\n",
       "      <th></th>\n",
       "      <th>Mon</th>\n",
       "      <th>Tue</th>\n",
       "      <th>Fri</th>\n",
       "    </tr>\n",
       "  </thead>\n",
       "  <tbody>\n",
       "    <tr>\n",
       "      <th>0</th>\n",
       "      <td>1</td>\n",
       "      <td>3</td>\n",
       "      <td>A</td>\n",
       "    </tr>\n",
       "    <tr>\n",
       "      <th>1</th>\n",
       "      <td>2</td>\n",
       "      <td>4</td>\n",
       "      <td>B</td>\n",
       "    </tr>\n",
       "  </tbody>\n",
       "</table>\n",
       "</div>"
      ],
      "text/plain": [
       "   Mon  Tue Fri\n",
       "0    1    3   A\n",
       "1    2    4   B"
      ]
     },
     "execution_count": 56,
     "metadata": {},
     "output_type": "execute_result"
    }
   ],
   "source": [
    "df.rename(columns = {\"Wed\":\"Fri\"})   #used to rename a column"
   ]
  },
  {
   "cell_type": "markdown",
   "id": "dc227c2b",
   "metadata": {},
   "source": [
    "### 13. Filling NaN values"
   ]
  },
  {
   "cell_type": "code",
   "execution_count": 57,
   "id": "dc176745",
   "metadata": {},
   "outputs": [
    {
     "name": "stdout",
     "output_type": "stream",
     "text": [
      "   Mon  Tue Wed\n",
      "0  1.0    2   A\n",
      "1  NaN    4   B\n"
     ]
    }
   ],
   "source": [
    "#Missing data is almost inevitable in real-world datasets. To fill NaN set,\n",
    "#consider the dataframe\n",
    "\n",
    "df = pd.DataFrame([[1, 2, \"A\"], [np.nan, 4, \"B\"]], \n",
    "                  columns = [\"Mon\", \"Tue\", \"Wed\"])\n",
    "print(df)"
   ]
  },
  {
   "cell_type": "code",
   "execution_count": 69,
   "id": "0cc7e551",
   "metadata": {},
   "outputs": [
    {
     "name": "stdout",
     "output_type": "stream",
     "text": [
      "   Mon  Tue Wed\n",
      "0  1.0    2   A\n",
      "1  0.0    4   B\n"
     ]
    }
   ],
   "source": [
    "#use the df.fillna() method to replace them with a specific value.\n",
    "#Example:\n",
    "df.fillna(0, inplace = True)\n",
    "print(df)"
   ]
  },
  {
   "cell_type": "markdown",
   "id": "9a1732fe",
   "metadata": {},
   "source": [
    "### 14. Handling Duplicates"
   ]
  },
  {
   "cell_type": "code",
   "execution_count": 73,
   "id": "89ac4de0",
   "metadata": {},
   "outputs": [
    {
     "data": {
      "text/html": [
       "<div>\n",
       "<style scoped>\n",
       "    .dataframe tbody tr th:only-of-type {\n",
       "        vertical-align: middle;\n",
       "    }\n",
       "\n",
       "    .dataframe tbody tr th {\n",
       "        vertical-align: top;\n",
       "    }\n",
       "\n",
       "    .dataframe thead th {\n",
       "        text-align: right;\n",
       "    }\n",
       "</style>\n",
       "<table border=\"1\" class=\"dataframe\">\n",
       "  <thead>\n",
       "    <tr style=\"text-align: right;\">\n",
       "      <th></th>\n",
       "      <th>col1</th>\n",
       "      <th>col2</th>\n",
       "    </tr>\n",
       "  </thead>\n",
       "  <tbody>\n",
       "    <tr>\n",
       "      <th>0</th>\n",
       "      <td>1</td>\n",
       "      <td>A</td>\n",
       "    </tr>\n",
       "    <tr>\n",
       "      <th>1</th>\n",
       "      <td>2</td>\n",
       "      <td>B</td>\n",
       "    </tr>\n",
       "    <tr>\n",
       "      <th>2</th>\n",
       "      <td>1</td>\n",
       "      <td>A</td>\n",
       "    </tr>\n",
       "  </tbody>\n",
       "</table>\n",
       "</div>"
      ],
      "text/plain": [
       "   col1 col2\n",
       "0     1    A\n",
       "1     2    B\n",
       "2     1    A"
      ]
     },
     "execution_count": 73,
     "metadata": {},
     "output_type": "execute_result"
    }
   ],
   "source": [
    "#You can mark all the repeated rows using the df.duplicated() method:\n",
    "#Example:\n",
    "\n",
    "df = pd.DataFrame([[1, \"A\"], \n",
    "                   [2, \"B\"], \n",
    "                   [1, \"A\"]], \n",
    "                  columns = [\"col1\", \"col2\"])\n",
    "\n",
    "                  \n",
    "df"
   ]
  },
  {
   "cell_type": "code",
   "execution_count": 74,
   "id": "d49fdf21",
   "metadata": {},
   "outputs": [
    {
     "data": {
      "text/plain": [
       "0     True\n",
       "1    False\n",
       "2     True\n",
       "dtype: bool"
      ]
     },
     "execution_count": 74,
     "metadata": {},
     "output_type": "execute_result"
    }
   ],
   "source": [
    "df.duplicated(keep=False)"
   ]
  },
  {
   "cell_type": "code",
   "execution_count": 75,
   "id": "b9dd7e0e",
   "metadata": {},
   "outputs": [
    {
     "name": "stdout",
     "output_type": "stream",
     "text": [
      "   col1 col2\n",
      "0     1    A\n",
      "1     2    B\n"
     ]
    }
   ],
   "source": [
    "#Further, you can drop the duplicated rows using the df.drop_duplicates() method as follows:\n",
    "print(df.drop_duplicates())"
   ]
  },
  {
   "cell_type": "markdown",
   "id": "7c81903c",
   "metadata": {},
   "source": [
    "### 15. Data Type"
   ]
  },
  {
   "cell_type": "code",
   "execution_count": 76,
   "id": "cf68ed8a",
   "metadata": {},
   "outputs": [
    {
     "data": {
      "text/plain": [
       "col1     int64\n",
       "col2    object\n",
       "dtype: object"
      ]
     },
     "execution_count": 76,
     "metadata": {},
     "output_type": "execute_result"
    }
   ],
   "source": [
    "#Dtypes shows the type of data in each column\n",
    "df.dtypes"
   ]
  },
  {
   "cell_type": "markdown",
   "id": "d8c4509b",
   "metadata": {},
   "source": [
    "### 16. Data Size"
   ]
  },
  {
   "cell_type": "code",
   "execution_count": 77,
   "id": "2d4e3ea1",
   "metadata": {},
   "outputs": [
    {
     "data": {
      "text/plain": [
       "6"
      ]
     },
     "execution_count": 77,
     "metadata": {},
     "output_type": "execute_result"
    }
   ],
   "source": [
    "#data.size returns the size of a dataframe (number of rows multiplied by the number of columns)\n",
    "df.size"
   ]
  },
  {
   "cell_type": "code",
   "execution_count": null,
   "id": "44d46266",
   "metadata": {},
   "outputs": [],
   "source": []
  }
 ],
 "metadata": {
  "kernelspec": {
   "display_name": "Python 3 (ipykernel)",
   "language": "python",
   "name": "python3"
  },
  "language_info": {
   "codemirror_mode": {
    "name": "ipython",
    "version": 3
   },
   "file_extension": ".py",
   "mimetype": "text/x-python",
   "name": "python",
   "nbconvert_exporter": "python",
   "pygments_lexer": "ipython3",
   "version": "3.9.12"
  }
 },
 "nbformat": 4,
 "nbformat_minor": 5
}

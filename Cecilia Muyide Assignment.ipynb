{
 "cells": [
  {
   "cell_type": "markdown",
   "id": "97d35367",
   "metadata": {},
   "source": [
    "1) Print all elements of a list using for loop"
   ]
  },
  {
   "cell_type": "code",
   "execution_count": 2,
   "id": "2a3ad62e",
   "metadata": {},
   "outputs": [
    {
     "name": "stdout",
     "output_type": "stream",
     "text": [
      "Tayo\n",
      "Segun\n",
      "Tobi\n",
      "Bayo\n",
      "Eniola\n"
     ]
    }
   ],
   "source": [
    "List= [\"Tayo\", \"Segun\",\"Tobi\",\"Bayo\", \"Eniola\"  ]\n",
    "for i in List:\n",
    "    print(i)"
   ]
  },
  {
   "cell_type": "markdown",
   "id": "7945f68f",
   "metadata": {},
   "source": [
    "2) A company decided to give bonus of 5% to employee if his/her year of service is more than 5\n",
    "years. Ask user for their salary and year of service and print the net bonus amount."
   ]
  },
  {
   "cell_type": "code",
   "execution_count": 57,
   "id": "58d6668c",
   "metadata": {},
   "outputs": [
    {
     "name": "stdout",
     "output_type": "stream",
     "text": [
      "Enter your years of service: 6\n",
      "Enter your salary: 100000\n",
      "net bonus is: 5000.0\n"
     ]
    }
   ],
   "source": [
    "    year_of_service= int(input(\"Enter your years of service: \"))\n",
    "    salary = int(input(\"Enter your salary: \"))\n",
    "    if year_of_service >= 5:\n",
    "        net_bonus = 5/100 * salary\n",
    "    else:\n",
    "            \"Not qualified for Bonus yet\"  \n",
    "    print(\"net bonus is:\" , net_bonus)\n",
    "        "
   ]
  },
  {
   "cell_type": "markdown",
   "id": "79485690",
   "metadata": {},
   "source": [
    "3) Take input of age of 3 people by user and determine oldest and youngest among them."
   ]
  },
  {
   "cell_type": "code",
   "execution_count": 40,
   "id": "da691423",
   "metadata": {
    "scrolled": true
   },
   "outputs": [
    {
     "name": "stdout",
     "output_type": "stream",
     "text": [
      "Enter first person's age here: 6\n",
      "Enter second person's age here: 7\n",
      "Enter third person's age here: 8\n",
      "The third person is the oldest\n"
     ]
    }
   ],
   "source": [
    "person_1= int(input(\"Enter first person's age here: \"))\n",
    "person_2= int( input(\"Enter second person's age here: \"))\n",
    "person_3= int( input(\"Enter third person's age here: \"))\n",
    "if person_1 > person_2 and person_1 > person_3:\n",
    "            print(\"The first person is the oldest\")\n",
    "elif person_2 > person_1 and person_2 > person_3:\n",
    "            print(\"The second person is the oldest\")\n",
    "else:\n",
    "            print(\"The third person is the oldest\")\n",
    " "
   ]
  },
  {
   "cell_type": "markdown",
   "id": "9e98da00",
   "metadata": {
    "scrolled": true
   },
   "source": [
    "A school has following rules for grading system:\n",
    "a. Below 25 - F\n",
    "b. 25 to 45 - E\n",
    "c. 45 to 50 - D\n",
    "d. 50 to 60 - C\n",
    "e. 60 to 80 - B\n",
    "f. Above 80 - A\n",
    "5) Ask user to enter marks and print the corresponding grade."
   ]
  },
  {
   "cell_type": "code",
   "execution_count": 44,
   "id": "d1358a48",
   "metadata": {},
   "outputs": [
    {
     "name": "stdout",
     "output_type": "stream",
     "text": [
      "Enter your score here95\n",
      "Your Grade is A\n"
     ]
    }
   ],
   "source": [
    "Your_score = int(input(\"Enter your score here\"))\n",
    "if Your_score < 25:\n",
    "    print(\"Your Grade is F \")\n",
    "elif Your_score >= 25 and Your_score < 45:\n",
    "    print(\"Your Grade is E \")\n",
    "elif Your_score >= 45 and Your_score < 50:\n",
    "    print(\"Your Grade is D \")\n",
    "elif Your_score >= 50 and Your_score < 60:\n",
    "    print(\"Your Grade is C \")\n",
    "elif Your_score >= 60 and Your_score < 80:\n",
    "    print(\"Your Grade is B\")\n",
    "else:\n",
    "    print(\"Your Grade is A\")\n",
    "    "
   ]
  },
  {
   "cell_type": "markdown",
   "id": "98021e98",
   "metadata": {},
   "source": [
    "6) Write a Python script to merge two Python dictionaries"
   ]
  },
  {
   "cell_type": "code",
   "execution_count": 54,
   "id": "759507a0",
   "metadata": {},
   "outputs": [
    {
     "name": "stdout",
     "output_type": "stream",
     "text": [
      "{'Sola': 13, 'Gbemi': 15, 'Dayo': 18, 'Wemimo': 20, 'Lola': 23, 'Bidemi': 35, 'Dide': 10, 'Banwo': 40}\n"
     ]
    }
   ],
   "source": [
    "dict_A = {'Sola': 13, 'Gbemi': 15, 'Dayo': 18, 'Wemimo': 20}\n",
    "dict_B = {\"Lola\": 23, \"Bidemi\": 35, \"Dide\": 10, \"Banwo\": 40}\n",
    "dict_A.update(dict_B)\n",
    "print(dict_A)"
   ]
  },
  {
   "cell_type": "markdown",
   "id": "ccb03fa0",
   "metadata": {},
   "source": [
    "7) Write a python program to get the largest number from a list"
   ]
  },
  {
   "cell_type": "code",
   "execution_count": 55,
   "id": "236f480f",
   "metadata": {},
   "outputs": [
    {
     "name": "stdout",
     "output_type": "stream",
     "text": [
      "788\n"
     ]
    }
   ],
   "source": [
    "list = [76, 45, 108, 344, 355, 788, 209]\n",
    "print(max(list))"
   ]
  },
  {
   "cell_type": "markdown",
   "id": "afe80934",
   "metadata": {},
   "source": [
    "8) Write a python program to remove a key from a dictionary"
   ]
  },
  {
   "cell_type": "code",
   "execution_count": 66,
   "id": "998b3372",
   "metadata": {},
   "outputs": [
    {
     "name": "stdout",
     "output_type": "stream",
     "text": [
      "{'Country': 'Nigeria', 'State': 'Lagos', 'Community': 'Ifelodun'}\n"
     ]
    }
   ],
   "source": [
    "my_dict = {\"Country\": \"Nigeria\", \"State\": \"Lagos\", \"LGA\": \"Ikorodu\", \"Community\": \"Ifelodun\"}\n",
    "my_dict.pop(\"LGA\")\n",
    "print(my_dict)"
   ]
  },
  {
   "cell_type": "code",
   "execution_count": null,
   "id": "53d8d232",
   "metadata": {},
   "outputs": [],
   "source": []
  },
  {
   "cell_type": "code",
   "execution_count": null,
   "id": "918b714e",
   "metadata": {},
   "outputs": [],
   "source": []
  }
 ],
 "metadata": {
  "kernelspec": {
   "display_name": "Python 3 (ipykernel)",
   "language": "python",
   "name": "python3"
  },
  "language_info": {
   "codemirror_mode": {
    "name": "ipython",
    "version": 3
   },
   "file_extension": ".py",
   "mimetype": "text/x-python",
   "name": "python",
   "nbconvert_exporter": "python",
   "pygments_lexer": "ipython3",
   "version": "3.9.12"
  }
 },
 "nbformat": 4,
 "nbformat_minor": 5
}

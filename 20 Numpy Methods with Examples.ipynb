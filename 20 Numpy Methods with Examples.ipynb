{
 "cells": [
  {
   "cell_type": "markdown",
   "id": "08b4992e",
   "metadata": {},
   "source": [
    "## 20 Numpy Methods With Examples"
   ]
  },
  {
   "cell_type": "markdown",
   "id": "b42f6b89",
   "metadata": {},
   "source": [
    "### Creating array\n",
    "1.\tRandom integers in a specific range"
   ]
  },
  {
   "cell_type": "code",
   "execution_count": 2,
   "id": "b01bb846",
   "metadata": {},
   "outputs": [
    {
     "data": {
      "text/plain": [
       "array([3, 0, 2, 1, 2, 0, 2])"
      ]
     },
     "execution_count": 2,
     "metadata": {},
     "output_type": "execute_result"
    }
   ],
   "source": [
    "#Example1: single line array of integers between 0 and 5\n",
    "import numpy as np\n",
    "np.random.randint(5, size=7)"
   ]
  },
  {
   "cell_type": "code",
   "execution_count": 7,
   "id": "80b56437",
   "metadata": {},
   "outputs": [
    {
     "data": {
      "text/plain": [
       "array([[8, 6, 7],\n",
       "       [8, 7, 8]])"
      ]
     },
     "execution_count": 7,
     "metadata": {},
     "output_type": "execute_result"
    }
   ],
   "source": [
    "#Example 2:  2x3 array of integers between 2 and 10.\n",
    "np.random.randint(2,10, size=(2,3))"
   ]
  },
  {
   "cell_type": "markdown",
   "id": "4599bf74",
   "metadata": {},
   "source": [
    "2. Random floats between 0 and 1"
   ]
  },
  {
   "cell_type": "code",
   "execution_count": 9,
   "id": "759a1873",
   "metadata": {},
   "outputs": [
    {
     "data": {
      "text/plain": [
       "array([0.21450386, 0.41931824, 0.61071708, 0.31586001, 0.47290573,\n",
       "       0.95791381, 0.21756898, 0.70026085])"
      ]
     },
     "execution_count": 9,
     "metadata": {},
     "output_type": "execute_result"
    }
   ],
   "source": [
    "#Example (used to create random data values between 0 and 1)\n",
    "np.random.random(8)"
   ]
  },
  {
   "cell_type": "markdown",
   "id": "d7dc8c8c",
   "metadata": {},
   "source": [
    "3. Sample from a standard normal distribution\n",
    "\n"
   ]
  },
  {
   "cell_type": "code",
   "execution_count": 11,
   "id": "9db45d10",
   "metadata": {},
   "outputs": [
    {
     "name": "stdout",
     "output_type": "stream",
     "text": [
      "0.5112012939195355\n",
      "0.28702548083064044\n"
     ]
    }
   ],
   "source": [
    "#Example (np.random.randn() is used to create a sample from a standard normal distribution (i.e. zero mean and unit variance).)\n",
    "print(np.random.rand(100).mean())\n",
    "print(np.random.rand(100).std())  #we created an array of 100 floats"
   ]
  },
  {
   "cell_type": "markdown",
   "id": "9e1a310d",
   "metadata": {},
   "source": [
    "4. Matrix with ones and zeros\n",
    "\n"
   ]
  },
  {
   "cell_type": "code",
   "execution_count": null,
   "id": "4da89c99",
   "metadata": {},
   "outputs": [],
   "source": [
    "#A matrix can be considered as a 2-dimensional array. \n",
    "#We can create a matrix with zeros or ones with np.zeros and np.ones, respectively."
   ]
  },
  {
   "cell_type": "code",
   "execution_count": 12,
   "id": "bc37c5c1",
   "metadata": {},
   "outputs": [
    {
     "data": {
      "text/plain": [
       "array([[1., 1., 1., 1.],\n",
       "       [1., 1., 1., 1.],\n",
       "       [1., 1., 1., 1.]])"
      ]
     },
     "execution_count": 12,
     "metadata": {},
     "output_type": "execute_result"
    }
   ],
   "source": [
    "#matrix with ones\n",
    "np.ones((3,4))"
   ]
  },
  {
   "cell_type": "code",
   "execution_count": 13,
   "id": "270b40d0",
   "metadata": {},
   "outputs": [
    {
     "data": {
      "text/plain": [
       "array([0., 0., 0., 0., 0., 0., 0., 0., 0., 0.])"
      ]
     },
     "execution_count": 13,
     "metadata": {},
     "output_type": "execute_result"
    }
   ],
   "source": [
    "#matrix with Zeros\n",
    "np.zeros(10)   #We can specify the dimension of the matrix as we like"
   ]
  },
  {
   "cell_type": "markdown",
   "id": "b03d99e9",
   "metadata": {},
   "source": [
    "5. Identity matrix\n",
    "\n"
   ]
  },
  {
   "cell_type": "code",
   "execution_count": 15,
   "id": "2f9ba000",
   "metadata": {},
   "outputs": [
    {
     "data": {
      "text/plain": [
       "array([[1., 0., 0.],\n",
       "       [0., 1., 0.],\n",
       "       [0., 0., 1.]])"
      ]
     },
     "execution_count": 15,
     "metadata": {},
     "output_type": "execute_result"
    }
   ],
   "source": [
    "#An identity matrix is a square matrix (nxn) that has ones on the diagonal and zeros on every other position.\n",
    "#Np.eye or np.identity can be used to create one.\n",
    "np.eye(3)"
   ]
  },
  {
   "cell_type": "code",
   "execution_count": 16,
   "id": "d956327d",
   "metadata": {},
   "outputs": [
    {
     "data": {
      "text/plain": [
       "array([[1., 0., 0.],\n",
       "       [0., 1., 0.],\n",
       "       [0., 0., 1.]])"
      ]
     },
     "execution_count": 16,
     "metadata": {},
     "output_type": "execute_result"
    }
   ],
   "source": [
    "np.identity(3)"
   ]
  },
  {
   "cell_type": "markdown",
   "id": "9256eaee",
   "metadata": {},
   "source": [
    "6. Arange\n",
    "\n"
   ]
  },
  {
   "cell_type": "code",
   "execution_count": 17,
   "id": "71deb20e",
   "metadata": {},
   "outputs": [],
   "source": [
    "#Arange function is used to create arrays with evenly spaced sequential values in a specified interval. \n",
    "#We can specify start value, stop value, and step size. \n",
    "#The default start value is zero and the default step size is one."
   ]
  },
  {
   "cell_type": "code",
   "execution_count": 18,
   "id": "360f1f63",
   "metadata": {},
   "outputs": [
    {
     "data": {
      "text/plain": [
       "array([0, 1, 2, 3, 4, 5, 6])"
      ]
     },
     "execution_count": 18,
     "metadata": {},
     "output_type": "execute_result"
    }
   ],
   "source": [
    "np.arange(7)"
   ]
  },
  {
   "cell_type": "code",
   "execution_count": 19,
   "id": "f181a219",
   "metadata": {},
   "outputs": [
    {
     "data": {
      "text/plain": [
       "array([3, 4, 5, 6])"
      ]
     },
     "execution_count": 19,
     "metadata": {},
     "output_type": "execute_result"
    }
   ],
   "source": [
    "np.arange(3,7)"
   ]
  },
  {
   "cell_type": "code",
   "execution_count": 22,
   "id": "13a86a07",
   "metadata": {},
   "outputs": [
    {
     "data": {
      "text/plain": [
       "array([30, 36, 42, 48, 54, 60, 66, 72, 78, 84, 90, 96])"
      ]
     },
     "execution_count": 22,
     "metadata": {},
     "output_type": "execute_result"
    }
   ],
   "source": [
    "np.arange(30,100,6)"
   ]
  },
  {
   "cell_type": "markdown",
   "id": "4dd7b6fd",
   "metadata": {},
   "source": [
    "7. Array with only one value\n"
   ]
  },
  {
   "cell_type": "code",
   "execution_count": null,
   "id": "cba26646",
   "metadata": {},
   "outputs": [],
   "source": [
    "#We can create an array that has the same value at every position using np.full.\n"
   ]
  },
  {
   "cell_type": "code",
   "execution_count": 24,
   "id": "fef3543d",
   "metadata": {},
   "outputs": [
    {
     "data": {
      "text/plain": [
       "array([[8, 8, 8, 8],\n",
       "       [8, 8, 8, 8],\n",
       "       [8, 8, 8, 8]])"
      ]
     },
     "execution_count": 24,
     "metadata": {},
     "output_type": "execute_result"
    }
   ],
   "source": [
    "#Example1:\n",
    "np.full((3,4), 8)"
   ]
  },
  {
   "cell_type": "code",
   "execution_count": 27,
   "id": "ab4ff4a0",
   "metadata": {},
   "outputs": [
    {
     "data": {
      "text/plain": [
       "array([[8., 8., 8., 8.],\n",
       "       [8., 8., 8., 8.],\n",
       "       [8., 8., 8., 8.]])"
      ]
     },
     "execution_count": 27,
     "metadata": {},
     "output_type": "execute_result"
    }
   ],
   "source": [
    "#Example2:\n",
    "np.full((3,4) ,8, dtype ='float') #dtype is used to change parameter. The default data type is integer."
   ]
  },
  {
   "cell_type": "markdown",
   "id": "0b484b5d",
   "metadata": {},
   "source": [
    "#### Manipulating arrays\n",
    "\n"
   ]
  },
  {
   "cell_type": "code",
   "execution_count": 32,
   "id": "1b099357",
   "metadata": {},
   "outputs": [
    {
     "data": {
      "text/plain": [
       "array([[2, 0, 3, 4],\n",
       "       [0, 0, 0, 0],\n",
       "       [3, 0, 0, 0]])"
      ]
     },
     "execution_count": 32,
     "metadata": {},
     "output_type": "execute_result"
    }
   ],
   "source": [
    "#Let’s first create a 2-dimensional array:\n",
    "A =np.random.randint(5 ,size=(3,4))\n",
    "A"
   ]
  },
  {
   "cell_type": "markdown",
   "id": "0eea8539",
   "metadata": {},
   "source": [
    "8. Ravel\n",
    "\n"
   ]
  },
  {
   "cell_type": "code",
   "execution_count": null,
   "id": "3903d1b1",
   "metadata": {},
   "outputs": [],
   "source": [
    "#Ravel function flattens the array (i.e. converts it to a 1-dimensional array)."
   ]
  },
  {
   "cell_type": "code",
   "execution_count": 33,
   "id": "e897f796",
   "metadata": {},
   "outputs": [
    {
     "data": {
      "text/plain": [
       "array([2, 0, 3, 4, 0, 0, 0, 0, 3, 0, 0, 0])"
      ]
     },
     "execution_count": 33,
     "metadata": {},
     "output_type": "execute_result"
    }
   ],
   "source": [
    "#Example1:\n",
    "A.ravel()"
   ]
  },
  {
   "cell_type": "code",
   "execution_count": 36,
   "id": "18e8392a",
   "metadata": {},
   "outputs": [
    {
     "data": {
      "text/plain": [
       "array([2, 0, 3, 0, 0, 0, 3, 0, 0, 4, 0, 0])"
      ]
     },
     "execution_count": 36,
     "metadata": {},
     "output_type": "execute_result"
    }
   ],
   "source": [
    "#Example2:\n",
    "A.ravel(order = 'F')  #By default, an array is flattened by adding row after row. \n",
    "                      #It can be changed to column-wise by setting the order parameter as F (Fortran-style)."
   ]
  },
  {
   "cell_type": "markdown",
   "id": "4e0f9e62",
   "metadata": {},
   "source": [
    "9. Reshape\n"
   ]
  },
  {
   "cell_type": "code",
   "execution_count": 40,
   "id": "a0f9b999",
   "metadata": {},
   "outputs": [
    {
     "data": {
      "text/plain": [
       "(3, 4)"
      ]
     },
     "execution_count": 40,
     "metadata": {},
     "output_type": "execute_result"
    }
   ],
   "source": [
    "#As the same suggests, it reshapes an array. The shape of A is (3,4) and the size is 12.\n",
    "#to confirm this:\n",
    "A.shape"
   ]
  },
  {
   "cell_type": "code",
   "execution_count": 39,
   "id": "2f95cbc8",
   "metadata": {},
   "outputs": [
    {
     "data": {
      "text/plain": [
       "12"
      ]
     },
     "execution_count": 39,
     "metadata": {},
     "output_type": "execute_result"
    }
   ],
   "source": [
    "A.size"
   ]
  },
  {
   "cell_type": "code",
   "execution_count": 42,
   "id": "f75f78b8",
   "metadata": {},
   "outputs": [
    {
     "data": {
      "text/plain": [
       "array([[2, 0, 3, 4],\n",
       "       [0, 0, 0, 0],\n",
       "       [3, 0, 0, 0]])"
      ]
     },
     "execution_count": 42,
     "metadata": {},
     "output_type": "execute_result"
    }
   ],
   "source": [
    "A #to remind us of what A is"
   ]
  },
  {
   "cell_type": "code",
   "execution_count": 41,
   "id": "eda8a38f",
   "metadata": {},
   "outputs": [
    {
     "data": {
      "text/plain": [
       "array([[2, 0, 3],\n",
       "       [4, 0, 0],\n",
       "       [0, 0, 3],\n",
       "       [0, 0, 0]])"
      ]
     },
     "execution_count": 41,
     "metadata": {},
     "output_type": "execute_result"
    }
   ],
   "source": [
    "#We need to preserve the size of A which is the product of the sizes in each dimension.\n",
    "A.reshape(4,3)"
   ]
  },
  {
   "cell_type": "code",
   "execution_count": 46,
   "id": "d0d7f4ff",
   "metadata": {},
   "outputs": [
    {
     "data": {
      "text/plain": [
       "array([[2, 0, 3, 4, 0, 0],\n",
       "       [0, 0, 3, 0, 0, 0]])"
      ]
     },
     "execution_count": 46,
     "metadata": {},
     "output_type": "execute_result"
    }
   ],
   "source": [
    "A.reshape(2,6)"
   ]
  },
  {
   "cell_type": "code",
   "execution_count": 47,
   "id": "6793afd0",
   "metadata": {},
   "outputs": [
    {
     "data": {
      "text/plain": [
       "array([[2, 0, 3],\n",
       "       [4, 0, 0],\n",
       "       [0, 0, 3],\n",
       "       [0, 0, 0]])"
      ]
     },
     "execution_count": 47,
     "metadata": {},
     "output_type": "execute_result"
    }
   ],
   "source": [
    "#We don’t have to specify the size in every dimension. We can let NumPy to figure out a dimension by passing -1.\n",
    "A.reshape(-1,3)"
   ]
  },
  {
   "cell_type": "code",
   "execution_count": 51,
   "id": "9c6a5c61",
   "metadata": {},
   "outputs": [
    {
     "data": {
      "text/plain": [
       "array([[2, 0, 3, 4, 0, 0, 0, 0, 3, 0, 0, 0]])"
      ]
     },
     "execution_count": 51,
     "metadata": {},
     "output_type": "execute_result"
    }
   ],
   "source": [
    "A.reshape(1,-1)"
   ]
  },
  {
   "cell_type": "markdown",
   "id": "ec616407",
   "metadata": {},
   "source": [
    "10. Transpose\n",
    "\n"
   ]
  },
  {
   "cell_type": "code",
   "execution_count": 52,
   "id": "cd0bdcb4",
   "metadata": {},
   "outputs": [
    {
     "data": {
      "text/plain": [
       "array([[2, 0, 3, 4],\n",
       "       [0, 0, 0, 0],\n",
       "       [3, 0, 0, 0]])"
      ]
     },
     "execution_count": 52,
     "metadata": {},
     "output_type": "execute_result"
    }
   ],
   "source": [
    "#Transposing a matrix is to switch rows and columns.\n",
    "A"
   ]
  },
  {
   "cell_type": "code",
   "execution_count": 53,
   "id": "f256aee7",
   "metadata": {},
   "outputs": [
    {
     "data": {
      "text/plain": [
       "array([[2, 0, 3],\n",
       "       [0, 0, 0],\n",
       "       [3, 0, 0],\n",
       "       [4, 0, 0]])"
      ]
     },
     "execution_count": 53,
     "metadata": {},
     "output_type": "execute_result"
    }
   ],
   "source": [
    "A.transpose()"
   ]
  },
  {
   "cell_type": "markdown",
   "id": "4cf9596f",
   "metadata": {},
   "source": [
    "11. Vsplit\n",
    "\n"
   ]
  },
  {
   "cell_type": "code",
   "execution_count": 54,
   "id": "8b562bbe",
   "metadata": {},
   "outputs": [
    {
     "data": {
      "text/plain": [
       "array([[4, 1, 3],\n",
       "       [0, 2, 2],\n",
       "       [4, 1, 1],\n",
       "       [0, 1, 1]])"
      ]
     },
     "execution_count": 54,
     "metadata": {},
     "output_type": "execute_result"
    }
   ],
   "source": [
    "#Splits an array into multiple sub-arrays vertically.\n",
    "A= np.random.randint(5, size=(4,3))\n",
    "A"
   ]
  },
  {
   "cell_type": "code",
   "execution_count": 56,
   "id": "59cb16be",
   "metadata": {},
   "outputs": [
    {
     "data": {
      "text/plain": [
       "[array([[4, 1, 3],\n",
       "        [0, 2, 2]]),\n",
       " array([[4, 1, 1],\n",
       "        [0, 1, 1]])]"
      ]
     },
     "execution_count": 56,
     "metadata": {},
     "output_type": "execute_result"
    }
   ],
   "source": [
    "np.vsplit(A,2)"
   ]
  },
  {
   "cell_type": "code",
   "execution_count": null,
   "id": "3687fdf9",
   "metadata": {},
   "outputs": [],
   "source": [
    "#In the example above, We split a 4x3 array into 2 sub-arrays, each having a shape of 2x3."
   ]
  },
  {
   "cell_type": "code",
   "execution_count": 57,
   "id": "18ab89d0",
   "metadata": {},
   "outputs": [
    {
     "data": {
      "text/plain": [
       "array([[4, 1, 3],\n",
       "       [0, 2, 2]])"
      ]
     },
     "execution_count": 57,
     "metadata": {},
     "output_type": "execute_result"
    }
   ],
   "source": [
    "#We can access a particular sub-array after splitting.\n",
    "np.vsplit(A,2)[0]"
   ]
  },
  {
   "cell_type": "markdown",
   "id": "b3a09e80",
   "metadata": {},
   "source": [
    "12. Hsplit\n",
    "\n"
   ]
  },
  {
   "cell_type": "code",
   "execution_count": null,
   "id": "bd9bde5d",
   "metadata": {},
   "outputs": [],
   "source": [
    "#It is similar to vsplit but works horizontally."
   ]
  },
  {
   "cell_type": "code",
   "execution_count": 3,
   "id": "ecc0bf6c",
   "metadata": {},
   "outputs": [
    {
     "data": {
      "text/plain": [
       "array([1, 0, 4, 0, 1, 0, 2, 1, 0, 4, 3, 0])"
      ]
     },
     "execution_count": 3,
     "metadata": {},
     "output_type": "execute_result"
    }
   ],
   "source": [
    "#Example:\n",
    "a = np.random.randint(5, size=12)\n",
    "a"
   ]
  },
  {
   "cell_type": "code",
   "execution_count": 5,
   "id": "704a6e38",
   "metadata": {},
   "outputs": [
    {
     "data": {
      "text/plain": [
       "[array([1, 0, 4, 0, 1, 0]), array([2, 1, 0, 4, 3, 0])]"
      ]
     },
     "execution_count": 5,
     "metadata": {},
     "output_type": "execute_result"
    }
   ],
   "source": [
    "np.hsplit(a,2)"
   ]
  },
  {
   "cell_type": "code",
   "execution_count": 8,
   "id": "e67a496a",
   "metadata": {},
   "outputs": [
    {
     "data": {
      "text/plain": [
       "array([[3],\n",
       "       [4],\n",
       "       [0],\n",
       "       [3],\n",
       "       [2],\n",
       "       [0]])"
      ]
     },
     "execution_count": 8,
     "metadata": {},
     "output_type": "execute_result"
    }
   ],
   "source": [
    "#If we apply hsplit on a 6x3 arrays to get 3 sub-arrays, resulting arrays will have a shape of (6,1).\n",
    "b = np.random.randint(5, size=(6,3))\n",
    "np.hsplit(b, 3)[0]"
   ]
  },
  {
   "cell_type": "code",
   "execution_count": 9,
   "id": "a8dc46ef",
   "metadata": {},
   "outputs": [
    {
     "data": {
      "text/plain": [
       "(6, 1)"
      ]
     },
     "execution_count": 9,
     "metadata": {},
     "output_type": "execute_result"
    }
   ],
   "source": [
    "np.hsplit(b, 3)[0].shape"
   ]
  },
  {
   "cell_type": "markdown",
   "id": "e8d9bb72",
   "metadata": {},
   "source": [
    "### Combining arrays"
   ]
  },
  {
   "cell_type": "markdown",
   "id": "da1981f6",
   "metadata": {},
   "source": [
    "13. Concatenate\n",
    "\n"
   ]
  },
  {
   "cell_type": "code",
   "execution_count": 10,
   "id": "810bd19c",
   "metadata": {},
   "outputs": [
    {
     "data": {
      "text/plain": [
       "array([1, 2, 3, 4, 7, 8, 9, 0])"
      ]
     },
     "execution_count": 10,
     "metadata": {},
     "output_type": "execute_result"
    }
   ],
   "source": [
    "#It is similar to the concat function of pandas.\n",
    "#Example:\n",
    "a = np.array([1,2,3,4])\n",
    "b = np.array([7,8,9,0])\n",
    "np.concatenate((a,b))"
   ]
  },
  {
   "cell_type": "code",
   "execution_count": 13,
   "id": "f75bb7a9",
   "metadata": {},
   "outputs": [
    {
     "data": {
      "text/plain": [
       "array([[1, 7],\n",
       "       [2, 8],\n",
       "       [3, 9],\n",
       "       [4, 0]])"
      ]
     },
     "execution_count": 13,
     "metadata": {},
     "output_type": "execute_result"
    }
   ],
   "source": [
    "#We can convert a and b arrays above to column vectors using the reshape function and then concatenate vertically.\n",
    "#Example:\n",
    "np.concatenate((a.reshape(-1, 1),  b.reshape(-1,1)),  axis =1)"
   ]
  },
  {
   "cell_type": "markdown",
   "id": "91e6b327",
   "metadata": {},
   "source": [
    "14. Vstack\n",
    "\n"
   ]
  },
  {
   "cell_type": "code",
   "execution_count": 14,
   "id": "da086b8c",
   "metadata": {},
   "outputs": [
    {
     "data": {
      "text/plain": [
       "array([[ 1,  2,  3,  4],\n",
       "       [ 7,  8,  9,  0],\n",
       "       [11, 12, 13, 14],\n",
       "       [17, 18, 19, 20]])"
      ]
     },
     "execution_count": 14,
     "metadata": {},
     "output_type": "execute_result"
    }
   ],
   "source": [
    "#It is used to stack arrays vertically (rows on top of each other).\n",
    "#Example:\n",
    "a = np.array([1,2,3,4])\n",
    "b = np.array([7,8,9,0])\n",
    "c = np.array([11,12,13,14])\n",
    "d = np.array([17,18,19,20])\n",
    "np.vstack((a,b,c,d))"
   ]
  },
  {
   "cell_type": "code",
   "execution_count": 17,
   "id": "c4547613",
   "metadata": {},
   "outputs": [
    {
     "data": {
      "text/plain": [
       "array([[[0, 5],\n",
       "        [3, 1]],\n",
       "\n",
       "       [[0, 0],\n",
       "        [5, 2]],\n",
       "\n",
       "       [[0, 5],\n",
       "        [3, 5]],\n",
       "\n",
       "       [[4, 0],\n",
       "        [2, 1]],\n",
       "\n",
       "       [[0, 5],\n",
       "        [2, 5]],\n",
       "\n",
       "       [[0, 4],\n",
       "        [4, 4]]])"
      ]
     },
     "execution_count": 17,
     "metadata": {},
     "output_type": "execute_result"
    }
   ],
   "source": [
    "#It also works with higher dimensional arrays.\n",
    "#Example:\n",
    "A =np.random.randint(6, size =(2,2,2))\n",
    "B =np.random.randint(6, size =(2,2,2))\n",
    "C =np.random.randint(6, size =(2,2,2))\n",
    "np.vstack((A,B,C))"
   ]
  },
  {
   "cell_type": "markdown",
   "id": "0e871a20",
   "metadata": {},
   "source": [
    "15. Hstack\n",
    "\n"
   ]
  },
  {
   "cell_type": "code",
   "execution_count": 18,
   "id": "4cddaf2d",
   "metadata": {},
   "outputs": [
    {
     "data": {
      "text/plain": [
       "array([[ 1,  7, 11],\n",
       "       [ 2,  8, 12],\n",
       "       [ 3,  9, 13],\n",
       "       [ 4,  0, 14]])"
      ]
     },
     "execution_count": 18,
     "metadata": {},
     "output_type": "execute_result"
    }
   ],
   "source": [
    "#Similar to vstack but works horizontally (column-wise).\n",
    "#Example:\n",
    "a = np.array([1,2,3,4]).reshape(-1,1)\n",
    "b = np.array([7,8,9,0]).reshape(-1,1)\n",
    "c = np.array([11,12,13,14]).reshape(-1,1)\n",
    "np.hstack((a,b,c))"
   ]
  },
  {
   "cell_type": "markdown",
   "id": "0002e5c3",
   "metadata": {},
   "source": [
    "### Linear algebra with NumPy arrays (numpy.linalg)"
   ]
  },
  {
   "cell_type": "markdown",
   "id": "578e3a7a",
   "metadata": {},
   "source": [
    "16. Det"
   ]
  },
  {
   "cell_type": "code",
   "execution_count": 22,
   "id": "8f138b49",
   "metadata": {},
   "outputs": [
    {
     "data": {
      "text/plain": [
       "array([[1, 3, 0],\n",
       "       [2, 4, 4],\n",
       "       [4, 3, 0]])"
      ]
     },
     "execution_count": 22,
     "metadata": {},
     "output_type": "execute_result"
    }
   ],
   "source": [
    "#Returns the determinant of a matrix.\n",
    "#Example:\n",
    "A = np.random.randint(5, size=(3,3))\n",
    "A"
   ]
  },
  {
   "cell_type": "code",
   "execution_count": 23,
   "id": "879f0949",
   "metadata": {},
   "outputs": [
    {
     "data": {
      "text/plain": [
       "36.0"
      ]
     },
     "execution_count": 23,
     "metadata": {},
     "output_type": "execute_result"
    }
   ],
   "source": [
    "np.linalg.det(A)"
   ]
  },
  {
   "cell_type": "code",
   "execution_count": null,
   "id": "6dc85012",
   "metadata": {},
   "outputs": [],
   "source": [
    "#A matrix must be square (i.e. the number of rows is equal to the number of columns) to calculate the determinant. \n",
    "#For a higher-dimensional array, the last two dimensions must be square."
   ]
  },
  {
   "cell_type": "markdown",
   "id": "14f0087c",
   "metadata": {},
   "source": [
    "17. Inv"
   ]
  },
  {
   "cell_type": "code",
   "execution_count": 24,
   "id": "96a8f81b",
   "metadata": {},
   "outputs": [
    {
     "data": {
      "text/plain": [
       "array([[-0.33333333,  0.        ,  0.33333333],\n",
       "       [ 0.44444444,  0.        , -0.11111111],\n",
       "       [-0.27777778,  0.25      , -0.05555556]])"
      ]
     },
     "execution_count": 24,
     "metadata": {},
     "output_type": "execute_result"
    }
   ],
   "source": [
    "#Calculates the inverse of a matrix.\n",
    "np.linalg.inv(A)"
   ]
  },
  {
   "cell_type": "code",
   "execution_count": null,
   "id": "e8ace864",
   "metadata": {},
   "outputs": [],
   "source": [
    "#Note: \n",
    "#The inverse of a matrix is the matrix that gives the identity matrix when multiplied with the original matrix. \n",
    "#Not every matrix has an inverse. If matrix A has an inverse, then it is called invertible or non-singular."
   ]
  },
  {
   "cell_type": "markdown",
   "id": "dce101b9",
   "metadata": {},
   "source": [
    "18. Eig\n",
    "\n"
   ]
  },
  {
   "cell_type": "code",
   "execution_count": 26,
   "id": "323fa9a1",
   "metadata": {},
   "outputs": [
    {
     "data": {
      "text/plain": [
       "(array([ 7.50469735+0.j        , -1.25234868+1.79683566j,\n",
       "        -1.25234868-1.79683566j]),\n",
       " array([[ 0.36130216+0.j        ,  0.10536598+0.54615733j,\n",
       "          0.10536598-0.54615733j],\n",
       "        [ 0.78338708+0.j        , -0.4062253 -0.34693713j,\n",
       "         -0.4062253 +0.34693713j],\n",
       "        [ 0.50573257+0.j        ,  0.63657349+0.j        ,\n",
       "          0.63657349-0.j        ]]))"
      ]
     },
     "execution_count": 26,
     "metadata": {},
     "output_type": "execute_result"
    }
   ],
   "source": [
    "#Computes the eigenvalues and right eigenvectors for a square matrix.\n",
    "#Example:\n",
    "np.linalg.eig(A)"
   ]
  },
  {
   "cell_type": "markdown",
   "id": "a19e8b07",
   "metadata": {},
   "source": [
    "19. Dot\n",
    "\n"
   ]
  },
  {
   "cell_type": "code",
   "execution_count": null,
   "id": "6572ea7d",
   "metadata": {},
   "outputs": [],
   "source": [
    "#Calculates the dot product of two vectors which is the sum of the products of elements with regards to their position. \n",
    "#The first element of the first vector is multiplied by the first element of the second vector and so on."
   ]
  },
  {
   "cell_type": "code",
   "execution_count": 27,
   "id": "8f383a52",
   "metadata": {},
   "outputs": [
    {
     "data": {
      "text/plain": [
       "50"
      ]
     },
     "execution_count": 27,
     "metadata": {},
     "output_type": "execute_result"
    }
   ],
   "source": [
    "#Example:\n",
    "a = np.array([1,2,3,4])\n",
    "b = np.array([7,8,9,0])\n",
    "np.dot(a,b)"
   ]
  },
  {
   "cell_type": "markdown",
   "id": "8690adcd",
   "metadata": {},
   "source": [
    "20. Matmul\n",
    "\n"
   ]
  },
  {
   "cell_type": "code",
   "execution_count": null,
   "id": "4fc0e189",
   "metadata": {},
   "outputs": [],
   "source": [
    "#It performs matrix multiplication.\n",
    "#example:\n",
    "A = ([[1,2],[3,4]])\n",
    "B = ([[3,4],[3,1]])\n",
    "n.p"
   ]
  }
 ],
 "metadata": {
  "kernelspec": {
   "display_name": "Python 3 (ipykernel)",
   "language": "python",
   "name": "python3"
  },
  "language_info": {
   "codemirror_mode": {
    "name": "ipython",
    "version": 3
   },
   "file_extension": ".py",
   "mimetype": "text/x-python",
   "name": "python",
   "nbconvert_exporter": "python",
   "pygments_lexer": "ipython3",
   "version": "3.9.12"
  }
 },
 "nbformat": 4,
 "nbformat_minor": 5
}
